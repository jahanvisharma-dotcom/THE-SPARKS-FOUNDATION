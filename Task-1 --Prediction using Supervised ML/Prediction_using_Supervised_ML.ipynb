{
  "nbformat": 4,
  "nbformat_minor": 0,
  "metadata": {
    "colab": {
      "name": "Prediction using Supervised ML.ipynb",
      "provenance": []
    },
    "kernelspec": {
      "name": "python3",
      "display_name": "Python 3"
    }
  },
  "cells": [
    {
      "cell_type": "markdown",
      "metadata": {
        "id": "zUwQ5qwad-jp"
      },
      "source": [
        "# ***Name - Jahanvi Sharma***\r\n",
        "\r\n",
        "### **Task - 1 : Predict the precentage of marks of an student based on the number of study hour.**\r\n",
        "\r\n",
        "### **Question - What will be predicted score if a student studies for 9.25 hours / day ?**"
      ]
    },
    {
      "cell_type": "markdown",
      "metadata": {
        "id": "0t_7hTVEK7pw"
      },
      "source": [
        "## **Importing Libraries :**"
      ]
    },
    {
      "cell_type": "code",
      "metadata": {
        "id": "X36mzxLhO9Pp"
      },
      "source": [
        "import pandas as pd\r\n",
        "import numpy as np\r\n",
        "from matplotlib import pyplot as plt\r\n",
        "from sklearn.model_selection import train_test_split\r\n",
        "from sklearn.linear_model import LinearRegression\r\n",
        "from sklearn.metrics import mean_absolute_error\r\n",
        "from sklearn import metrics"
      ],
      "execution_count": null,
      "outputs": []
    },
    {
      "cell_type": "markdown",
      "metadata": {
        "id": "S0twVTfsLUpV"
      },
      "source": [
        "After importing all the required libraries, let's import the data from the dataset."
      ]
    },
    {
      "cell_type": "markdown",
      "metadata": {
        "id": "HD-5cSnVKtw_"
      },
      "source": [
        "## **Import Data from Dataset :**"
      ]
    },
    {
      "cell_type": "code",
      "metadata": {
        "colab": {
          "base_uri": "https://localhost:8080/",
          "height": 804
        },
        "id": "-kKVmzAtPG2n",
        "outputId": "56516fa3-6feb-4d86-8b21-9820201c4e20"
      },
      "source": [
        "read=pd.read_csv(\"/t1.csv\")\r\n",
        "print(\"data is imported...!!!\")\r\n",
        "read"
      ],
      "execution_count": null,
      "outputs": [
        {
          "output_type": "stream",
          "text": [
            "data is imported...!!!\n"
          ],
          "name": "stdout"
        },
        {
          "output_type": "execute_result",
          "data": {
            "text/html": [
              "<div>\n",
              "<style scoped>\n",
              "    .dataframe tbody tr th:only-of-type {\n",
              "        vertical-align: middle;\n",
              "    }\n",
              "\n",
              "    .dataframe tbody tr th {\n",
              "        vertical-align: top;\n",
              "    }\n",
              "\n",
              "    .dataframe thead th {\n",
              "        text-align: right;\n",
              "    }\n",
              "</style>\n",
              "<table border=\"1\" class=\"dataframe\">\n",
              "  <thead>\n",
              "    <tr style=\"text-align: right;\">\n",
              "      <th></th>\n",
              "      <th>Hours</th>\n",
              "      <th>Scores</th>\n",
              "    </tr>\n",
              "  </thead>\n",
              "  <tbody>\n",
              "    <tr>\n",
              "      <th>0</th>\n",
              "      <td>2.5</td>\n",
              "      <td>21</td>\n",
              "    </tr>\n",
              "    <tr>\n",
              "      <th>1</th>\n",
              "      <td>5.1</td>\n",
              "      <td>47</td>\n",
              "    </tr>\n",
              "    <tr>\n",
              "      <th>2</th>\n",
              "      <td>3.2</td>\n",
              "      <td>27</td>\n",
              "    </tr>\n",
              "    <tr>\n",
              "      <th>3</th>\n",
              "      <td>8.5</td>\n",
              "      <td>75</td>\n",
              "    </tr>\n",
              "    <tr>\n",
              "      <th>4</th>\n",
              "      <td>3.5</td>\n",
              "      <td>30</td>\n",
              "    </tr>\n",
              "    <tr>\n",
              "      <th>5</th>\n",
              "      <td>1.5</td>\n",
              "      <td>20</td>\n",
              "    </tr>\n",
              "    <tr>\n",
              "      <th>6</th>\n",
              "      <td>9.2</td>\n",
              "      <td>88</td>\n",
              "    </tr>\n",
              "    <tr>\n",
              "      <th>7</th>\n",
              "      <td>5.5</td>\n",
              "      <td>60</td>\n",
              "    </tr>\n",
              "    <tr>\n",
              "      <th>8</th>\n",
              "      <td>8.3</td>\n",
              "      <td>81</td>\n",
              "    </tr>\n",
              "    <tr>\n",
              "      <th>9</th>\n",
              "      <td>2.7</td>\n",
              "      <td>25</td>\n",
              "    </tr>\n",
              "    <tr>\n",
              "      <th>10</th>\n",
              "      <td>7.7</td>\n",
              "      <td>85</td>\n",
              "    </tr>\n",
              "    <tr>\n",
              "      <th>11</th>\n",
              "      <td>5.9</td>\n",
              "      <td>62</td>\n",
              "    </tr>\n",
              "    <tr>\n",
              "      <th>12</th>\n",
              "      <td>4.5</td>\n",
              "      <td>41</td>\n",
              "    </tr>\n",
              "    <tr>\n",
              "      <th>13</th>\n",
              "      <td>3.3</td>\n",
              "      <td>42</td>\n",
              "    </tr>\n",
              "    <tr>\n",
              "      <th>14</th>\n",
              "      <td>1.1</td>\n",
              "      <td>17</td>\n",
              "    </tr>\n",
              "    <tr>\n",
              "      <th>15</th>\n",
              "      <td>8.9</td>\n",
              "      <td>95</td>\n",
              "    </tr>\n",
              "    <tr>\n",
              "      <th>16</th>\n",
              "      <td>2.5</td>\n",
              "      <td>30</td>\n",
              "    </tr>\n",
              "    <tr>\n",
              "      <th>17</th>\n",
              "      <td>1.9</td>\n",
              "      <td>24</td>\n",
              "    </tr>\n",
              "    <tr>\n",
              "      <th>18</th>\n",
              "      <td>6.1</td>\n",
              "      <td>67</td>\n",
              "    </tr>\n",
              "    <tr>\n",
              "      <th>19</th>\n",
              "      <td>7.4</td>\n",
              "      <td>69</td>\n",
              "    </tr>\n",
              "    <tr>\n",
              "      <th>20</th>\n",
              "      <td>2.7</td>\n",
              "      <td>30</td>\n",
              "    </tr>\n",
              "    <tr>\n",
              "      <th>21</th>\n",
              "      <td>4.8</td>\n",
              "      <td>54</td>\n",
              "    </tr>\n",
              "    <tr>\n",
              "      <th>22</th>\n",
              "      <td>3.8</td>\n",
              "      <td>35</td>\n",
              "    </tr>\n",
              "    <tr>\n",
              "      <th>23</th>\n",
              "      <td>6.9</td>\n",
              "      <td>76</td>\n",
              "    </tr>\n",
              "    <tr>\n",
              "      <th>24</th>\n",
              "      <td>7.8</td>\n",
              "      <td>86</td>\n",
              "    </tr>\n",
              "  </tbody>\n",
              "</table>\n",
              "</div>"
            ],
            "text/plain": [
              "    Hours  Scores\n",
              "0     2.5      21\n",
              "1     5.1      47\n",
              "2     3.2      27\n",
              "3     8.5      75\n",
              "4     3.5      30\n",
              "5     1.5      20\n",
              "6     9.2      88\n",
              "7     5.5      60\n",
              "8     8.3      81\n",
              "9     2.7      25\n",
              "10    7.7      85\n",
              "11    5.9      62\n",
              "12    4.5      41\n",
              "13    3.3      42\n",
              "14    1.1      17\n",
              "15    8.9      95\n",
              "16    2.5      30\n",
              "17    1.9      24\n",
              "18    6.1      67\n",
              "19    7.4      69\n",
              "20    2.7      30\n",
              "21    4.8      54\n",
              "22    3.8      35\n",
              "23    6.9      76\n",
              "24    7.8      86"
            ]
          },
          "metadata": {
            "tags": []
          },
          "execution_count": 6
        }
      ]
    },
    {
      "cell_type": "markdown",
      "metadata": {
        "id": "84RXLWssMDyD"
      },
      "source": [
        "Now print the full summary of the dataframe :"
      ]
    },
    {
      "cell_type": "code",
      "metadata": {
        "colab": {
          "base_uri": "https://localhost:8080/"
        },
        "id": "Q2tlpDKCEBCG",
        "outputId": "6575f604-e4b5-47a6-ac90-9edcd666dd23"
      },
      "source": [
        "read.info()"
      ],
      "execution_count": null,
      "outputs": [
        {
          "output_type": "stream",
          "text": [
            "<class 'pandas.core.frame.DataFrame'>\n",
            "RangeIndex: 25 entries, 0 to 24\n",
            "Data columns (total 2 columns):\n",
            " #   Column  Non-Null Count  Dtype  \n",
            "---  ------  --------------  -----  \n",
            " 0   Hours   25 non-null     float64\n",
            " 1   Scores  25 non-null     int64  \n",
            "dtypes: float64(1), int64(1)\n",
            "memory usage: 528.0 bytes\n"
          ],
          "name": "stdout"
        }
      ]
    },
    {
      "cell_type": "code",
      "metadata": {
        "colab": {
          "base_uri": "https://localhost:8080/",
          "height": 391
        },
        "id": "b5h7qFL4hpXQ",
        "outputId": "75f38333-0bac-47c2-b509-f95d432f24a9"
      },
      "source": [
        "import seaborn as sns\r\n",
        "sns.pairplot(read)"
      ],
      "execution_count": 34,
      "outputs": [
        {
          "output_type": "execute_result",
          "data": {
            "text/plain": [
              "<seaborn.axisgrid.PairGrid at 0x7f7580f94d68>"
            ]
          },
          "metadata": {
            "tags": []
          },
          "execution_count": 34
        },
        {
          "output_type": "display_data",
          "data": {
            "image/png": "[encoded data removed]",
            "text/plain": [
              "<Figure size 360x360 with 6 Axes>"
            ]
          },
          "metadata": {
            "tags": [],
            "needs_background": "light"
          }
        }
      ]
    },
    {
      "cell_type": "markdown",
      "metadata": {
        "id": "d2fMTeoTMRbi"
      },
      "source": [
        "## **Plot imported data :**"
      ]
    },
    {
      "cell_type": "code",
      "metadata": {
        "colab": {
          "base_uri": "https://localhost:8080/",
          "height": 279
        },
        "id": "Oo3eQwGYRAWp",
        "outputId": "51825aee-cdb1-43e4-c67f-13ff2b99a21c"
      },
      "source": [
        "plt.scatter(read.Hours,read.Scores,label=\"data points\")\r\n",
        "plt.xlabel('Hours')\r\n",
        "plt.ylabel('Scores')\r\n",
        "plt.legend()\r\n",
        "plt.show()"
      ],
      "execution_count": null,
      "outputs": [
        {
          "output_type": "display_data",
          "data": {
            "image/png": "[encoded data removed]",
            "text/plain": [
              "<Figure size 432x288 with 1 Axes>"
            ]
          },
          "metadata": {
            "tags": [],
            "needs_background": "light"
          }
        }
      ]
    },
    {
      "cell_type": "markdown",
      "metadata": {
        "id": "H1HIuFLuNI0l"
      },
      "source": [
        "From the above Scatter plot we can observe that the scatter graph is a positive liner regression."
      ]
    },
    {
      "cell_type": "markdown",
      "metadata": {
        "id": "_yNa7qnXNL2T"
      },
      "source": [
        "## **Preparing data for the model and splitting into train and test sets.**"
      ]
    },
    {
      "cell_type": "code",
      "metadata": {
        "colab": {
          "base_uri": "https://localhost:8080/"
        },
        "id": "iYIw7nr3RVSE",
        "outputId": "1a799104-8a56-4a7e-efe6-74f117aad22f"
      },
      "source": [
        "x=np.array(read[['Hours']])\r\n",
        "y=np.array(read[['Scores']])\r\n",
        "x_train,x_test,y_train,y_test=train_test_split(x,y,test_size=0.2,random_state=0)\r\n",
        "print(f\"size of train data and test data is {x_train.size,y_train.size,x_test.size,y_test.size}\")"
      ],
      "execution_count": null,
      "outputs": [
        {
          "output_type": "stream",
          "text": [
            "size of train data and test data is (20, 20, 5, 5)\n"
          ],
          "name": "stdout"
        }
      ]
    },
    {
      "cell_type": "markdown",
      "metadata": {
        "id": "pnNZ9HNsOFLr"
      },
      "source": [
        "## **Training the Model :**"
      ]
    },
    {
      "cell_type": "code",
      "metadata": {
        "colab": {
          "base_uri": "https://localhost:8080/"
        },
        "id": "s8wvATcPRr-g",
        "outputId": "849e184d-cfeb-4fd2-87dd-df1f1a6a1ef2"
      },
      "source": [
        "##we know that line equation is : y= m*x + c\r\n",
        "##where, m = gradient, c = intercept on y-axis, x and y are the continous variables\r\n",
        "model=LinearRegression()\r\n",
        "model.fit(x_train,y_train)\r\n",
        "predict=model.predict(x_test)\r\n",
        "m=model.coef_\r\n",
        "print(f\"The value of m in line eq is {m[0][0]}\")\r\n",
        "c=model.intercept_\r\n",
        "print(f\"The value of c in line eq is {c[0]}\")"
      ],
      "execution_count": null,
      "outputs": [
        {
          "output_type": "stream",
          "text": [
            "The value of m in line eq is 9.91065648064224\n",
            "The value of c in line eq is 2.018160041434662\n"
          ],
          "name": "stdout"
        }
      ]
    },
    {
      "cell_type": "markdown",
      "metadata": {
        "id": "y6JEvWSzOyCR"
      },
      "source": [
        "## **Plot the Train Data :**"
      ]
    },
    {
      "cell_type": "code",
      "metadata": {
        "id": "CdwgXme0Pvy9",
        "colab": {
          "base_uri": "https://localhost:8080/",
          "height": 295
        },
        "outputId": "6309627c-e8ce-4093-93e7-1f2606af3482"
      },
      "source": [
        "#After training the model lets plot our data\r\n",
        "line=model.coef_*x + model.intercept_\r\n",
        "plt.scatter(x,y,label='Data points')\r\n",
        "plt.plot(x,line,color='green', label='slope')\r\n",
        "plt.title('Hours vs Scores',color='Black')\r\n",
        "plt.xlabel('Hours of study',color='Black',)\r\n",
        "plt.ylabel('marks',color='Black')\r\n",
        "plt.legend()\r\n",
        "plt.show()"
      ],
      "execution_count": null,
      "outputs": [
        {
          "output_type": "display_data",
          "data": {
            "image/png": "[encoded data removed]",
            "text/plain": [
              "<Figure size 432x288 with 1 Axes>"
            ]
          },
          "metadata": {
            "tags": [],
            "needs_background": "light"
          }
        }
      ]
    },
    {
      "cell_type": "markdown",
      "metadata": {
        "id": "W7MDAIhzPeMw"
      },
      "source": [
        "## **Testing the Data :**"
      ]
    },
    {
      "cell_type": "code",
      "metadata": {
        "colab": {
          "base_uri": "https://localhost:8080/"
        },
        "id": "fRMdBEtxFQVr",
        "outputId": "ccd9a5d4-dd56-4802-8bcb-c1b1f315e519"
      },
      "source": [
        "#predicting Scores for test data\r\n",
        "Y_pred=model.predict(x_test)\r\n",
        "print(Y_pred)"
      ],
      "execution_count": null,
      "outputs": [
        {
          "output_type": "stream",
          "text": [
            "[[16.88414476]\n",
            " [33.73226078]\n",
            " [75.357018  ]\n",
            " [26.79480124]\n",
            " [60.49103328]]\n"
          ],
          "name": "stdout"
        }
      ]
    },
    {
      "cell_type": "code",
      "metadata": {
        "colab": {
          "base_uri": "https://localhost:8080/",
          "height": 298
        },
        "id": "T1qPF463GrwQ",
        "outputId": "bc301f6c-f568-44f0-ddd3-818cd256be7b"
      },
      "source": [
        "#plotting line on the test data\r\n",
        "plt.plot(x_test,Y_pred,color='green')\r\n",
        "plt.scatter(x_test,y_test,color='black')\r\n",
        "plt.xlabel(\"Hours\",fontsize=15)\r\n",
        "plt.ylabel(\"Scores\",fontsize=15)\r\n",
        "plt.title(\"Regression line(Test set)\",fontsize=10)\r\n",
        "plt.show()"
      ],
      "execution_count": null,
      "outputs": [
        {
          "output_type": "display_data",
          "data": {
            "image/png": "[encoded data removed]",
            "text/plain": [
              "<Figure size 432x288 with 1 Axes>"
            ]
          },
          "metadata": {
            "tags": [],
            "needs_background": "light"
          }
        }
      ]
    },
    {
      "cell_type": "code",
      "metadata": {
        "colab": {
          "base_uri": "https://localhost:8080/",
          "height": 195
        },
        "id": "8YaFLFQ8HGZJ",
        "outputId": "c0b436e2-be12-443e-d27d-0a69bb677db7"
      },
      "source": [
        "#Comparing Actual vs Predicted Scores\r\n",
        "test1 = list(y_test)\r\n",
        "prediction=list(Y_pred)\r\n",
        "df_compare = pd.DataFrame({ 'Actual data':test1,'Result':prediction})\r\n",
        "df_compare"
      ],
      "execution_count": null,
      "outputs": [
        {
          "output_type": "execute_result",
          "data": {
            "text/html": [
              "<div>\n",
              "<style scoped>\n",
              "    .dataframe tbody tr th:only-of-type {\n",
              "        vertical-align: middle;\n",
              "    }\n",
              "\n",
              "    .dataframe tbody tr th {\n",
              "        vertical-align: top;\n",
              "    }\n",
              "\n",
              "    .dataframe thead th {\n",
              "        text-align: right;\n",
              "    }\n",
              "</style>\n",
              "<table border=\"1\" class=\"dataframe\">\n",
              "  <thead>\n",
              "    <tr style=\"text-align: right;\">\n",
              "      <th></th>\n",
              "      <th>Actual data</th>\n",
              "      <th>Result</th>\n",
              "    </tr>\n",
              "  </thead>\n",
              "  <tbody>\n",
              "    <tr>\n",
              "      <th>0</th>\n",
              "      <td>[20]</td>\n",
              "      <td>[16.884144762398023]</td>\n",
              "    </tr>\n",
              "    <tr>\n",
              "      <th>1</th>\n",
              "      <td>[27]</td>\n",
              "      <td>[33.732260779489835]</td>\n",
              "    </tr>\n",
              "    <tr>\n",
              "      <th>2</th>\n",
              "      <td>[69]</td>\n",
              "      <td>[75.35701799818725]</td>\n",
              "    </tr>\n",
              "    <tr>\n",
              "      <th>3</th>\n",
              "      <td>[30]</td>\n",
              "      <td>[26.79480124304026]</td>\n",
              "    </tr>\n",
              "    <tr>\n",
              "      <th>4</th>\n",
              "      <td>[62]</td>\n",
              "      <td>[60.491033277223885]</td>\n",
              "    </tr>\n",
              "  </tbody>\n",
              "</table>\n",
              "</div>"
            ],
            "text/plain": [
              "  Actual data                Result\n",
              "0        [20]  [16.884144762398023]\n",
              "1        [27]  [33.732260779489835]\n",
              "2        [69]   [75.35701799818725]\n",
              "3        [30]   [26.79480124304026]\n",
              "4        [62]  [60.491033277223885]"
            ]
          },
          "metadata": {
            "tags": []
          },
          "execution_count": 33
        }
      ]
    },
    {
      "cell_type": "markdown",
      "metadata": {
        "id": "vvrypM13QEAe"
      },
      "source": [
        "## **Check Accuracy of Model**"
      ]
    },
    {
      "cell_type": "code",
      "metadata": {
        "colab": {
          "base_uri": "https://localhost:8080/"
        },
        "id": "i8uPnt7aHdSu",
        "outputId": "134f1ede-fded-4f29-b446-b529cc1a5fee"
      },
      "source": [
        "metrics.r2_score(y_test,Y_pred)"
      ],
      "execution_count": null,
      "outputs": [
        {
          "output_type": "execute_result",
          "data": {
            "text/plain": [
              "0.9454906892105354"
            ]
          },
          "metadata": {
            "tags": []
          },
          "execution_count": 29
        }
      ]
    },
    {
      "cell_type": "code",
      "metadata": {
        "id": "m_CqEWx8Qa7e",
        "colab": {
          "base_uri": "https://localhost:8080/"
        },
        "outputId": "2e13cd9b-e76d-47e0-8977-f206d71351bf"
      },
      "source": [
        "#To check the accuracy we will use R squared value\r\n",
        "r_square=model.score(x_train,y_train)\r\n",
        "print(f\"R squared value is {r_square}\")\r\n",
        "#We will also calculate mean absolute error\r\n",
        "mean_absolute_error=mean_absolute_error(y_test,predict)\r\n",
        "print(f\"Mean absolute error is {mean_absolute_error}\")"
      ],
      "execution_count": null,
      "outputs": [
        {
          "output_type": "stream",
          "text": [
            "R squared value is 0.9515510725211553\n",
            "Mean absolute error is 4.183859899002982\n"
          ],
          "name": "stdout"
        }
      ]
    },
    {
      "cell_type": "markdown",
      "metadata": {
        "id": "raqDUNWSQ7vq"
      },
      "source": [
        "## **Prediction of Score :**"
      ]
    },
    {
      "cell_type": "markdown",
      "metadata": {
        "id": "TPN9JqtgRIIT"
      },
      "source": [
        "What will be predicted score if a student studies for 9.25 hours / day ?"
      ]
    },
    {
      "cell_type": "code",
      "metadata": {
        "colab": {
          "base_uri": "https://localhost:8080/"
        },
        "id": "8N7Mm_yHQkal",
        "outputId": "b5c54621-9a10-4700-e39b-96f44293b1cd"
      },
      "source": [
        "hours=9.25\r\n",
        "my_predict=model.predict([[hours]])\r\n",
        "print(f\"Hours = {hours}/day\")\r\n",
        "print(f\"Predicted marks = {my_predict[0][0]}\")"
      ],
      "execution_count": null,
      "outputs": [
        {
          "output_type": "stream",
          "text": [
            "Hours = 9.25/day\n",
            "Predicted marks = 93.69173248737539\n"
          ],
          "name": "stdout"
        }
      ]
    },
    {
      "cell_type": "markdown",
      "metadata": {
        "id": "_EiqcqkURN86"
      },
      "source": [
        "**From the above result concluded that if a student studies for 9.25 hours/day then he/she will secured 93.6 marks.**"
      ]
    }
  ]
}